{
  "nbformat": 4,
  "nbformat_minor": 0,
  "metadata": {
    "colab": {
      "provenance": [],
      "authorship_tag": "ABX9TyN5G4yvnlvIk/lwKAlQtSN5",
      "include_colab_link": true
    },
    "kernelspec": {
      "name": "python3",
      "display_name": "Python 3"
    },
    "language_info": {
      "name": "python"
    }
  },
  "cells": [
    {
      "cell_type": "markdown",
      "metadata": {
        "id": "view-in-github",
        "colab_type": "text"
      },
      "source": [
        "<a href=\"https://colab.research.google.com/github/gursaveks/Personal-Expense-Tracker/blob/main/DATA_PREPROCESSING.ipynb\" target=\"_parent\"><img src=\"https://colab.research.google.com/assets/colab-badge.svg\" alt=\"Open In Colab\"/></a>"
      ]
    },
    {
      "cell_type": "code",
      "source": [
        "import pandas as pd\n",
        "\n",
        "# Load the dataset\n",
        "data = pd.read_csv(\"Data.csv\")\n",
        "\n",
        "# Display the first few rows\n",
        "print(data.head())\n"
      ],
      "metadata": {
        "colab": {
          "base_uri": "https://localhost:8080/"
        },
        "id": "OWVQnAhxbdJV",
        "outputId": "feb19a80-e532-4c0b-ee1f-f09129697808"
      },
      "execution_count": 2,
      "outputs": [
        {
          "output_type": "stream",
          "name": "stdout",
          "text": [
            "   Country   Age   Salary Purchased\n",
            "0   France  44.0  72000.0        No\n",
            "1    Spain  27.0  48000.0       Yes\n",
            "2  Germany  30.0  54000.0        No\n",
            "3    Spain  38.0  61000.0        No\n",
            "4  Germany  40.0      NaN       Yes\n"
          ]
        }
      ]
    },
    {
      "cell_type": "code",
      "source": [
        "# Fill missing Age with the mean\n",
        "data['Age'].fillna(data['Age'].mean(), inplace=True)\n",
        "\n",
        "# Fill missing Salary with the median\n",
        "data['Salary'].fillna(data['Salary'].median(), inplace=True)\n"
      ],
      "metadata": {
        "colab": {
          "base_uri": "https://localhost:8080/"
        },
        "id": "w0mjaJ4AcDCW",
        "outputId": "f0f83a8a-19a2-4ce6-ed5a-c31440a0cf5d"
      },
      "execution_count": 3,
      "outputs": [
        {
          "output_type": "stream",
          "name": "stderr",
          "text": [
            "<ipython-input-3-a014b1f0c14a>:2: FutureWarning: A value is trying to be set on a copy of a DataFrame or Series through chained assignment using an inplace method.\n",
            "The behavior will change in pandas 3.0. This inplace method will never work because the intermediate object on which we are setting values always behaves as a copy.\n",
            "\n",
            "For example, when doing 'df[col].method(value, inplace=True)', try using 'df.method({col: value}, inplace=True)' or df[col] = df[col].method(value) instead, to perform the operation inplace on the original object.\n",
            "\n",
            "\n",
            "  data['Age'].fillna(data['Age'].mean(), inplace=True)\n",
            "<ipython-input-3-a014b1f0c14a>:5: FutureWarning: A value is trying to be set on a copy of a DataFrame or Series through chained assignment using an inplace method.\n",
            "The behavior will change in pandas 3.0. This inplace method will never work because the intermediate object on which we are setting values always behaves as a copy.\n",
            "\n",
            "For example, when doing 'df[col].method(value, inplace=True)', try using 'df.method({col: value}, inplace=True)' or df[col] = df[col].method(value) instead, to perform the operation inplace on the original object.\n",
            "\n",
            "\n",
            "  data['Salary'].fillna(data['Salary'].median(), inplace=True)\n"
          ]
        }
      ]
    },
    {
      "cell_type": "code",
      "source": [
        "from sklearn.preprocessing import MinMaxScaler\n",
        "\n",
        "scaler = MinMaxScaler()\n",
        "data[['Age', 'Salary']] = scaler.fit_transform(data[['Age', 'Salary']])\n"
      ],
      "metadata": {
        "id": "XJyV1X_ZcGDb"
      },
      "execution_count": 4,
      "outputs": []
    },
    {
      "cell_type": "code",
      "source": [
        "# One-hot encode the Country column\n",
        "data = pd.get_dummies(data, columns=['Country'], drop_first=True)\n",
        "\n",
        "# Encode the Purchased column (Yes=1, No=0)\n",
        "data['Purchased'] = data['Purchased'].map({'Yes': 1, 'No': 0})\n"
      ],
      "metadata": {
        "id": "KOaQ9uLBcMvc"
      },
      "execution_count": 5,
      "outputs": []
    },
    {
      "cell_type": "code",
      "source": [
        "from sklearn.model_selection import train_test_split\n",
        "\n",
        "X = data.drop('Purchased', axis=1)\n",
        "y = data['Purchased']\n",
        "X_train, X_test, y_train, y_test = train_test_split(X, y, test_size=0.2, random_state=42)\n"
      ],
      "metadata": {
        "id": "V0K-StVicR1g"
      },
      "execution_count": 6,
      "outputs": []
    },
    {
      "cell_type": "code",
      "source": [
        "from sklearn.linear_model import LogisticRegression\n",
        "from sklearn.metrics import accuracy_score\n",
        "\n",
        "model = LogisticRegression()\n",
        "model.fit(X_train, y_train)\n",
        "\n",
        "# Predict on the test set\n",
        "y_pred = model.predict(X_test)\n",
        "\n",
        "# Evaluate the model\n",
        "print(\"Accuracy:\", accuracy_score(y_test, y_pred))\n"
      ],
      "metadata": {
        "colab": {
          "base_uri": "https://localhost:8080/"
        },
        "id": "g5Fnr6uHcUIU",
        "outputId": "dacb56fc-d16f-4f73-d14f-f0111552356b"
      },
      "execution_count": 7,
      "outputs": [
        {
          "output_type": "stream",
          "name": "stdout",
          "text": [
            "Accuracy: 0.0\n"
          ]
        }
      ]
    },
    {
      "cell_type": "code",
      "source": [
        "import pandas as pd\n",
        "from sklearn.model_selection import train_test_split\n",
        "\n",
        "# Load the dataset\n",
        "data = pd.read_csv(\"Data.csv\")\n",
        "\n",
        "# Preprocessing\n",
        "data['Age'].fillna(data['Age'].mean(), inplace=True)         # Fill missing Age values\n",
        "data['Salary'].fillna(data['Salary'].median(), inplace=True) # Fill missing Salary values\n",
        "data = pd.get_dummies(data, columns=['Country'], drop_first=True) # Encode 'Country'\n",
        "data['Purchased'] = data['Purchased'].map({'Yes': 1, 'No': 0})    # Encode 'Purchased'\n",
        "\n",
        "# Define features (X) and target (y)\n",
        "X = data.drop('Purchased', axis=1)  # Features\n",
        "y = data['Purchased']               # Target\n",
        "\n",
        "# Split the data into training and testing sets\n",
        "X_train, X_test, y_train, y_test = train_test_split(X, y, test_size=0.2, random_state=42)\n",
        "\n",
        "# Print the results\n",
        "print(\"Training Features:\\n\", X_train)\n",
        "print(\"\\nTesting Features:\\n\", X_test)\n",
        "print(\"\\nTraining Target:\\n\", y_train)\n",
        "print(\"\\nTesting Target:\\n\", y_test)\n"
      ],
      "metadata": {
        "colab": {
          "base_uri": "https://localhost:8080/"
        },
        "id": "kKUOxyGQcWrF",
        "outputId": "c7e0a140-0d77-4f1d-c055-8286f195718d"
      },
      "execution_count": 8,
      "outputs": [
        {
          "output_type": "stream",
          "name": "stdout",
          "text": [
            "Training Features:\n",
            "          Age   Salary  Country_Germany  Country_Spain\n",
            "5  35.000000  58000.0            False          False\n",
            "0  44.000000  72000.0            False          False\n",
            "7  48.000000  79000.0            False          False\n",
            "2  30.000000  54000.0             True          False\n",
            "9  37.000000  67000.0            False          False\n",
            "4  40.000000  61000.0             True          False\n",
            "3  38.000000  61000.0            False           True\n",
            "6  38.777778  52000.0            False           True\n",
            "\n",
            "Testing Features:\n",
            "     Age   Salary  Country_Germany  Country_Spain\n",
            "8  50.0  83000.0             True          False\n",
            "1  27.0  48000.0            False           True\n",
            "\n",
            "Training Target:\n",
            " 5    1\n",
            "0    0\n",
            "7    1\n",
            "2    0\n",
            "9    1\n",
            "4    1\n",
            "3    0\n",
            "6    0\n",
            "Name: Purchased, dtype: int64\n",
            "\n",
            "Testing Target:\n",
            " 8    0\n",
            "1    1\n",
            "Name: Purchased, dtype: int64\n"
          ]
        },
        {
          "output_type": "stream",
          "name": "stderr",
          "text": [
            "<ipython-input-8-9b04adb40009>:8: FutureWarning: A value is trying to be set on a copy of a DataFrame or Series through chained assignment using an inplace method.\n",
            "The behavior will change in pandas 3.0. This inplace method will never work because the intermediate object on which we are setting values always behaves as a copy.\n",
            "\n",
            "For example, when doing 'df[col].method(value, inplace=True)', try using 'df.method({col: value}, inplace=True)' or df[col] = df[col].method(value) instead, to perform the operation inplace on the original object.\n",
            "\n",
            "\n",
            "  data['Age'].fillna(data['Age'].mean(), inplace=True)         # Fill missing Age values\n",
            "<ipython-input-8-9b04adb40009>:9: FutureWarning: A value is trying to be set on a copy of a DataFrame or Series through chained assignment using an inplace method.\n",
            "The behavior will change in pandas 3.0. This inplace method will never work because the intermediate object on which we are setting values always behaves as a copy.\n",
            "\n",
            "For example, when doing 'df[col].method(value, inplace=True)', try using 'df.method({col: value}, inplace=True)' or df[col] = df[col].method(value) instead, to perform the operation inplace on the original object.\n",
            "\n",
            "\n",
            "  data['Salary'].fillna(data['Salary'].median(), inplace=True) # Fill missing Salary values\n"
          ]
        }
      ]
    },
    {
      "cell_type": "code",
      "source": [],
      "metadata": {
        "id": "K5pjjxWecpys"
      },
      "execution_count": null,
      "outputs": []
    }
  ]
}